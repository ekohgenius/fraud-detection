{
 "cells": [
  {
   "cell_type": "markdown",
   "metadata": {},
   "source": [
    "# Fraud Detection"
   ]
  },
  {
   "cell_type": "code",
   "execution_count": 1,
   "metadata": {},
   "outputs": [],
   "source": [
    "import ast\n",
    "  \n",
    "\n",
    "import category_encoders as ce\n",
    "\n",
    "from flask import Flask, jsonify, request\n",
    "import json\n",
    "import joblib\n",
    "\n",
    "import pandas as pd\n",
    "\n",
    "import matplotlib.pyplot as plt\n",
    "import numpy as np\n",
    "import seaborn as sns\n",
    "\n",
    "from sklearn import model_selection\n",
    "from sklearn.ensemble import IsolationForest\n",
    "from sklearn.linear_model import LogisticRegression\n",
    "from sklearn.preprocessing import MinMaxScaler\n",
    "from sklearn.metrics import confusion_matrix, make_scorer, recall_score\n",
    "from sklearn.model_selection import train_test_split\n",
    "\n",
    "\n",
    "from tqdm import tqdm\n",
    "\n",
    "import torch\n",
    "import torch.nn as nn\n",
    "from torch.autograd import Variable as V\n",
    "import torch.nn.functional as F\n",
    "from torch.utils.data import DataLoader"
   ]
  },
  {
   "cell_type": "markdown",
   "metadata": {},
   "source": [
    "#### Load dataset"
   ]
  },
  {
   "cell_type": "code",
   "execution_count": 5,
   "metadata": {},
   "outputs": [],
   "source": [
    "data = pd.read_csv('../dataset/transactions_train.csv')"
   ]
  },
  {
   "cell_type": "code",
   "execution_count": 6,
   "metadata": {},
   "outputs": [
    {
     "data": {
      "text/html": [
       "<div>\n",
       "<style scoped>\n",
       "    .dataframe tbody tr th:only-of-type {\n",
       "        vertical-align: middle;\n",
       "    }\n",
       "\n",
       "    .dataframe tbody tr th {\n",
       "        vertical-align: top;\n",
       "    }\n",
       "\n",
       "    .dataframe thead th {\n",
       "        text-align: right;\n",
       "    }\n",
       "</style>\n",
       "<table border=\"1\" class=\"dataframe\">\n",
       "  <thead>\n",
       "    <tr style=\"text-align: right;\">\n",
       "      <th></th>\n",
       "      <th>step</th>\n",
       "      <th>type</th>\n",
       "      <th>amount</th>\n",
       "      <th>nameOrig</th>\n",
       "      <th>oldbalanceOrig</th>\n",
       "      <th>newbalanceOrig</th>\n",
       "      <th>nameDest</th>\n",
       "      <th>oldbalanceDest</th>\n",
       "      <th>newbalanceDest</th>\n",
       "      <th>isFraud</th>\n",
       "    </tr>\n",
       "  </thead>\n",
       "  <tbody>\n",
       "    <tr>\n",
       "      <th>0</th>\n",
       "      <td>1</td>\n",
       "      <td>PAYMENT</td>\n",
       "      <td>9839.64</td>\n",
       "      <td>C1231006815</td>\n",
       "      <td>170136.0</td>\n",
       "      <td>160296.36</td>\n",
       "      <td>M1979787155</td>\n",
       "      <td>0.0</td>\n",
       "      <td>0.0</td>\n",
       "      <td>0</td>\n",
       "    </tr>\n",
       "    <tr>\n",
       "      <th>1</th>\n",
       "      <td>1</td>\n",
       "      <td>PAYMENT</td>\n",
       "      <td>1864.28</td>\n",
       "      <td>C1666544295</td>\n",
       "      <td>21249.0</td>\n",
       "      <td>19384.72</td>\n",
       "      <td>M2044282225</td>\n",
       "      <td>0.0</td>\n",
       "      <td>0.0</td>\n",
       "      <td>0</td>\n",
       "    </tr>\n",
       "    <tr>\n",
       "      <th>2</th>\n",
       "      <td>1</td>\n",
       "      <td>TRANSFER</td>\n",
       "      <td>181.00</td>\n",
       "      <td>C1305486145</td>\n",
       "      <td>181.0</td>\n",
       "      <td>0.00</td>\n",
       "      <td>C553264065</td>\n",
       "      <td>0.0</td>\n",
       "      <td>0.0</td>\n",
       "      <td>1</td>\n",
       "    </tr>\n",
       "    <tr>\n",
       "      <th>3</th>\n",
       "      <td>1</td>\n",
       "      <td>CASH_OUT</td>\n",
       "      <td>181.00</td>\n",
       "      <td>C840083671</td>\n",
       "      <td>181.0</td>\n",
       "      <td>0.00</td>\n",
       "      <td>C38997010</td>\n",
       "      <td>21182.0</td>\n",
       "      <td>0.0</td>\n",
       "      <td>1</td>\n",
       "    </tr>\n",
       "    <tr>\n",
       "      <th>4</th>\n",
       "      <td>1</td>\n",
       "      <td>PAYMENT</td>\n",
       "      <td>11668.14</td>\n",
       "      <td>C2048537720</td>\n",
       "      <td>41554.0</td>\n",
       "      <td>29885.86</td>\n",
       "      <td>M1230701703</td>\n",
       "      <td>0.0</td>\n",
       "      <td>0.0</td>\n",
       "      <td>0</td>\n",
       "    </tr>\n",
       "  </tbody>\n",
       "</table>\n",
       "</div>"
      ],
      "text/plain": [
       "   step      type    amount     nameOrig  oldbalanceOrig  newbalanceOrig  \\\n",
       "0     1   PAYMENT   9839.64  C1231006815        170136.0       160296.36   \n",
       "1     1   PAYMENT   1864.28  C1666544295         21249.0        19384.72   \n",
       "2     1  TRANSFER    181.00  C1305486145           181.0            0.00   \n",
       "3     1  CASH_OUT    181.00   C840083671           181.0            0.00   \n",
       "4     1   PAYMENT  11668.14  C2048537720         41554.0        29885.86   \n",
       "\n",
       "      nameDest  oldbalanceDest  newbalanceDest  isFraud  \n",
       "0  M1979787155             0.0             0.0        0  \n",
       "1  M2044282225             0.0             0.0        0  \n",
       "2   C553264065             0.0             0.0        1  \n",
       "3    C38997010         21182.0             0.0        1  \n",
       "4  M1230701703             0.0             0.0        0  "
      ]
     },
     "execution_count": 6,
     "metadata": {},
     "output_type": "execute_result"
    }
   ],
   "source": [
    "data.head()"
   ]
  },
  {
   "cell_type": "code",
   "execution_count": 7,
   "metadata": {},
   "outputs": [],
   "source": [
    "data_fraud = data[data['isFraud']==1]\n",
    "data_non_fraud = data[data['isFraud']==0]"
   ]
  },
  {
   "cell_type": "code",
   "execution_count": 8,
   "metadata": {},
   "outputs": [
    {
     "name": "stdout",
     "output_type": "stream",
     "text": [
      "<class 'pandas.core.frame.DataFrame'>\n",
      "RangeIndex: 6351193 entries, 0 to 6351192\n",
      "Data columns (total 10 columns):\n",
      " #   Column          Dtype  \n",
      "---  ------          -----  \n",
      " 0   step            int64  \n",
      " 1   type            object \n",
      " 2   amount          float64\n",
      " 3   nameOrig        object \n",
      " 4   oldbalanceOrig  float64\n",
      " 5   newbalanceOrig  float64\n",
      " 6   nameDest        object \n",
      " 7   oldbalanceDest  float64\n",
      " 8   newbalanceDest  float64\n",
      " 9   isFraud         int64  \n",
      "dtypes: float64(5), int64(2), object(3)\n",
      "memory usage: 484.6+ MB\n"
     ]
    }
   ],
   "source": [
    "data.info()"
   ]
  },
  {
   "cell_type": "code",
   "execution_count": 25,
   "metadata": {},
   "outputs": [],
   "source": [
    "def plot_pie(column: str)-> None:\n",
    "\n",
    "    \"\"\"\n",
    "    This function displays a count plot for a paticular column in \n",
    "    the entire dataset\n",
    "\n",
    "    Args:\n",
    "        column: column to plot\n",
    "\n",
    "    Return:\n",
    "        None\n",
    "    \"\"\"\n",
    "    _, ax = plt.subplots(figsize = (11, 6))\n",
    "    data[column].value_counts(normalize=True).plot(kind='pie')\n",
    "    plt.title(f'Plot of count of {column}')\n",
    "    plt.legend()\n",
    "    plt.plot()"
   ]
  },
  {
   "cell_type": "code",
   "execution_count": 12,
   "metadata": {},
   "outputs": [],
   "source": [
    "def plot_counts(column: str)-> None:\n",
    "\n",
    "    \"\"\"\n",
    "    This function displays a count plot for a paticular column in \n",
    "    the entire dataset\n",
    "\n",
    "    Args:\n",
    "        column: column to plot\n",
    "\n",
    "    Return:\n",
    "        None\n",
    "    \"\"\"\n",
    "    _, ax = plt.subplots(figsize = (11, 6))\n",
    "    data[column].value_counts(normalize=True).plot(kind='bar', axes = ax)\n",
    "    plt.title(f'Plot of count of {column}')\n",
    "    plt.xlabel('Elements in the column')\n",
    "    plt.ylabel('count')\n",
    "    plt.plot()\n",
    "\n",
    "\n",
    "def plot_counts_non_fraud(column: str)-> None:\n",
    "\n",
    "    \"\"\"\n",
    "    This function displays a count plot for a paticular column in \n",
    "    the none fraudulent dataset\n",
    "\n",
    "    Args:\n",
    "        column: column to plot\n",
    "\n",
    "    Return:\n",
    "        None\n",
    "    \"\"\"\n",
    "    _, ax = plt.subplots(figsize = (11, 6))\n",
    "    data_non_fraud[column].value_counts(normalize=True).plot(kind='bar', axes = ax)\n",
    "    plt.title(f'Plot of count of {column} in non-fraud dataset')\n",
    "    plt.xlabel('Elements in the column')\n",
    "    plt.ylabel('count')\n",
    "    plt.plot()\n",
    "\n",
    "def plot_counts_fraud(column: str)-> None:\n",
    "\n",
    "    \"\"\"\n",
    "    This function displays a count plot for a paticular column in \n",
    "    the fraudulent dataset\n",
    "\n",
    "    Args:\n",
    "        column: column to plot\n",
    "\n",
    "    Return:\n",
    "        None\n",
    "    \"\"\"\n",
    "    _, ax = plt.subplots(figsize = (11, 6))\n",
    "    data_fraud[column].value_counts(normalize=True).plot(kind='bar', axes = ax)\n",
    "    plt.title(f'Plot of count of {column} in Fraud dataset')\n",
    "    plt.xlabel('Elements in the column')\n",
    "    plt.ylabel('count')\n",
    "    plt.plot()"
   ]
  },
  {
   "cell_type": "code",
   "execution_count": 13,
   "metadata": {},
   "outputs": [
    {
     "data": {
      "image/png": "[encoded data removed]",
      "text/plain": [
       "<Figure size 792x432 with 1 Axes>"
      ]
     },
     "metadata": {
      "needs_background": "light"
     },
     "output_type": "display_data"
    }
   ],
   "source": [
    "plot_counts_fraud('type')"
   ]
  },
  {
   "cell_type": "code",
   "execution_count": 14,
   "metadata": {},
   "outputs": [
    {
     "data": {
      "image/png": "[encoded data removed]",
      "text/plain": [
       "<Figure size 792x432 with 1 Axes>"
      ]
     },
     "metadata": {
      "needs_background": "light"
     },
     "output_type": "display_data"
    }
   ],
   "source": [
    "plot_counts_non_fraud('type')"
   ]
  },
  {
   "cell_type": "code",
   "execution_count": 9,
   "metadata": {},
   "outputs": [
    {
     "data": {
      "text/plain": [
       "212    40\n",
       "523    30\n",
       "249    28\n",
       "387    28\n",
       "501    28\n",
       "       ..\n",
       "589     2\n",
       "662     2\n",
       "202     2\n",
       "23      2\n",
       "252     2\n",
       "Name: step, Length: 697, dtype: int64"
      ]
     },
     "execution_count": 9,
     "metadata": {},
     "output_type": "execute_result"
    }
   ],
   "source": [
    "data_fraud['step'].value_counts()"
   ]
  },
  {
   "cell_type": "code",
   "execution_count": 10,
   "metadata": {},
   "outputs": [
    {
     "data": {
      "text/plain": [
       "19     51341\n",
       "18     49563\n",
       "187    49073\n",
       "235    47481\n",
       "307    46952\n",
       "       ...  \n",
       "27        33\n",
       "454       33\n",
       "529       27\n",
       "613       25\n",
       "675       20\n",
       "Name: step, Length: 413, dtype: int64"
      ]
     },
     "execution_count": 10,
     "metadata": {},
     "output_type": "execute_result"
    }
   ],
   "source": [
    "data_non_fraud['step'].value_counts()"
   ]
  },
  {
   "cell_type": "code",
   "execution_count": 11,
   "metadata": {},
   "outputs": [
    {
     "data": {
      "text/plain": [
       "C1305486145    1\n",
       "C1158527799    1\n",
       "C915102234     1\n",
       "C9486206       1\n",
       "C777622163     1\n",
       "              ..\n",
       "C369516790     1\n",
       "C1926697362    1\n",
       "C1370685766    1\n",
       "C174356762     1\n",
       "C1491503658    1\n",
       "Name: nameOrig, Length: 7717, dtype: int64"
      ]
     },
     "execution_count": 11,
     "metadata": {},
     "output_type": "execute_result"
    }
   ],
   "source": [
    "data_fraud['nameOrig'].value_counts()"
   ]
  },
  {
   "cell_type": "code",
   "execution_count": 12,
   "metadata": {},
   "outputs": [
    {
     "data": {
      "text/plain": [
       "C2051359467    3\n",
       "C1784010646    3\n",
       "C1832548028    3\n",
       "C1999539787    3\n",
       "C724452879     3\n",
       "              ..\n",
       "C1642468927    1\n",
       "C1612159858    1\n",
       "C1738029554    1\n",
       "C1863188703    1\n",
       "C700991352     1\n",
       "Name: nameOrig, Length: 6334217, dtype: int64"
      ]
     },
     "execution_count": 12,
     "metadata": {},
     "output_type": "execute_result"
    }
   ],
   "source": [
    "data_non_fraud['nameOrig'].value_counts()"
   ]
  },
  {
   "cell_type": "code",
   "execution_count": 13,
   "metadata": {},
   "outputs": [
    {
     "data": {
      "text/plain": [
       "C385133759     2\n",
       "C1013511446    2\n",
       "C475338087     2\n",
       "C2020337583    2\n",
       "C1827219533    2\n",
       "              ..\n",
       "C1734777637    1\n",
       "C1965664830    1\n",
       "C894811944     1\n",
       "C685365077     1\n",
       "C454424230     1\n",
       "Name: nameDest, Length: 7677, dtype: int64"
      ]
     },
     "execution_count": 13,
     "metadata": {},
     "output_type": "execute_result"
    }
   ],
   "source": [
    "data_fraud['nameDest'].value_counts()"
   ]
  },
  {
   "cell_type": "code",
   "execution_count": 14,
   "metadata": {},
   "outputs": [
    {
     "data": {
      "text/plain": [
       "C1286084959    113\n",
       "C985934102     109\n",
       "C665576141     105\n",
       "C2083562754    102\n",
       "C1590550415    101\n",
       "              ... \n",
       "M1365071430      1\n",
       "M475293185       1\n",
       "M1250406584      1\n",
       "M1818997297      1\n",
       "M358479392       1\n",
       "Name: nameDest, Length: 2714423, dtype: int64"
      ]
     },
     "execution_count": 14,
     "metadata": {},
     "output_type": "execute_result"
    }
   ],
   "source": [
    "data_non_fraud['nameDest'].value_counts()"
   ]
  },
  {
   "cell_type": "code",
   "execution_count": 26,
   "metadata": {},
   "outputs": [
    {
     "data": {
      "image/png": "[encoded data removed]",
      "text/plain": [
       "<Figure size 792x432 with 1 Axes>"
      ]
     },
     "metadata": {},
     "output_type": "display_data"
    }
   ],
   "source": [
    "plot_pie('isFraud')"
   ]
  },
  {
   "cell_type": "code",
   "execution_count": 16,
   "metadata": {},
   "outputs": [
    {
     "name": "stdout",
     "output_type": "stream",
     "text": [
      "size of data: 6351193\n",
      "size of fraud data: 7717\n",
      "size of non-fraud data: 6343476\n"
     ]
    }
   ],
   "source": [
    "print(f'size of data: {len(data)}')\n",
    "print(f'size of fraud data: {len(data_fraud)}')\n",
    "print(f'size of non-fraud data: {len(data_non_fraud)}')"
   ]
  },
  {
   "cell_type": "markdown",
   "metadata": {},
   "source": [
    "### Preping dataset for modelling"
   ]
  },
  {
   "cell_type": "code",
   "execution_count": 17,
   "metadata": {},
   "outputs": [],
   "source": [
    "final_data = data[(data['type']=='CASH_OUT') | (data['type'] =='TRANSFER')].reset_index(drop = True)\n",
    "\n",
    "columns=final_data.drop(columns = ['isFraud']).columns\n",
    "\n",
    "# Encoding categorical variables\n",
    "encoder = ce.TargetEncoder(cols=['type', 'nameOrig', 'nameDest'])\n",
    "X = final_data.drop(columns =['isFraud'])\n",
    "y = final_data[['isFraud']]\n",
    "encoder.fit(X, y)\n",
    "X_cleaned = encoder.transform(X)\n",
    "\n"
   ]
  },
  {
   "cell_type": "code",
   "execution_count": 18,
   "metadata": {},
   "outputs": [
    {
     "data": {
      "text/plain": [
       "['target_encoding.gz']"
      ]
     },
     "execution_count": 18,
     "metadata": {},
     "output_type": "execute_result"
    }
   ],
   "source": [
    "joblib.dump(encoder, 'target_encoding.gz')"
   ]
  },
  {
   "cell_type": "code",
   "execution_count": 19,
   "metadata": {},
   "outputs": [
    {
     "data": {
      "text/html": [
       "<div>\n",
       "<style scoped>\n",
       "    .dataframe tbody tr th:only-of-type {\n",
       "        vertical-align: middle;\n",
       "    }\n",
       "\n",
       "    .dataframe tbody tr th {\n",
       "        vertical-align: top;\n",
       "    }\n",
       "\n",
       "    .dataframe thead th {\n",
       "        text-align: right;\n",
       "    }\n",
       "</style>\n",
       "<table border=\"1\" class=\"dataframe\">\n",
       "  <thead>\n",
       "    <tr style=\"text-align: right;\">\n",
       "      <th></th>\n",
       "      <th>step</th>\n",
       "      <th>type</th>\n",
       "      <th>amount</th>\n",
       "      <th>nameOrig</th>\n",
       "      <th>oldbalanceOrig</th>\n",
       "      <th>newbalanceOrig</th>\n",
       "      <th>nameDest</th>\n",
       "      <th>oldbalanceDest</th>\n",
       "      <th>newbalanceDest</th>\n",
       "      <th>isFraud</th>\n",
       "    </tr>\n",
       "  </thead>\n",
       "  <tbody>\n",
       "    <tr>\n",
       "      <th>0</th>\n",
       "      <td>1</td>\n",
       "      <td>0.007237</td>\n",
       "      <td>181.00</td>\n",
       "      <td>0.002791</td>\n",
       "      <td>181.0</td>\n",
       "      <td>0.0</td>\n",
       "      <td>3.703704e-02</td>\n",
       "      <td>0.0</td>\n",
       "      <td>0.00</td>\n",
       "      <td>1</td>\n",
       "    </tr>\n",
       "    <tr>\n",
       "      <th>1</th>\n",
       "      <td>1</td>\n",
       "      <td>0.001732</td>\n",
       "      <td>181.00</td>\n",
       "      <td>0.002791</td>\n",
       "      <td>181.0</td>\n",
       "      <td>0.0</td>\n",
       "      <td>3.225806e-02</td>\n",
       "      <td>21182.0</td>\n",
       "      <td>0.00</td>\n",
       "      <td>1</td>\n",
       "    </tr>\n",
       "    <tr>\n",
       "      <th>2</th>\n",
       "      <td>1</td>\n",
       "      <td>0.001732</td>\n",
       "      <td>229133.94</td>\n",
       "      <td>0.002791</td>\n",
       "      <td>15325.0</td>\n",
       "      <td>0.0</td>\n",
       "      <td>5.245554e-15</td>\n",
       "      <td>5083.0</td>\n",
       "      <td>51513.44</td>\n",
       "      <td>0</td>\n",
       "    </tr>\n",
       "    <tr>\n",
       "      <th>3</th>\n",
       "      <td>1</td>\n",
       "      <td>0.007237</td>\n",
       "      <td>215310.30</td>\n",
       "      <td>0.002791</td>\n",
       "      <td>705.0</td>\n",
       "      <td>0.0</td>\n",
       "      <td>2.608834e-16</td>\n",
       "      <td>22425.0</td>\n",
       "      <td>0.00</td>\n",
       "      <td>0</td>\n",
       "    </tr>\n",
       "    <tr>\n",
       "      <th>4</th>\n",
       "      <td>1</td>\n",
       "      <td>0.007237</td>\n",
       "      <td>311685.89</td>\n",
       "      <td>0.002791</td>\n",
       "      <td>10835.0</td>\n",
       "      <td>0.0</td>\n",
       "      <td>1.960784e-02</td>\n",
       "      <td>6267.0</td>\n",
       "      <td>2719172.89</td>\n",
       "      <td>0</td>\n",
       "    </tr>\n",
       "  </tbody>\n",
       "</table>\n",
       "</div>"
      ],
      "text/plain": [
       "   step      type     amount  nameOrig  oldbalanceOrig  newbalanceOrig  \\\n",
       "0     1  0.007237     181.00  0.002791           181.0             0.0   \n",
       "1     1  0.001732     181.00  0.002791           181.0             0.0   \n",
       "2     1  0.001732  229133.94  0.002791         15325.0             0.0   \n",
       "3     1  0.007237  215310.30  0.002791           705.0             0.0   \n",
       "4     1  0.007237  311685.89  0.002791         10835.0             0.0   \n",
       "\n",
       "       nameDest  oldbalanceDest  newbalanceDest  isFraud  \n",
       "0  3.703704e-02             0.0            0.00        1  \n",
       "1  3.225806e-02         21182.0            0.00        1  \n",
       "2  5.245554e-15          5083.0        51513.44        0  \n",
       "3  2.608834e-16         22425.0            0.00        0  \n",
       "4  1.960784e-02          6267.0      2719172.89        0  "
      ]
     },
     "execution_count": 19,
     "metadata": {},
     "output_type": "execute_result"
    }
   ],
   "source": [
    "final_data = X_cleaned\n",
    "final_data['isFraud'] = y\n",
    "final_data.head()"
   ]
  },
  {
   "cell_type": "code",
   "execution_count": 20,
   "metadata": {},
   "outputs": [],
   "source": [
    "final_fraud = final_data[final_data['isFraud']==1]\n",
    "final_non_fraud = final_data[final_data['isFraud']==0]\n",
    "\n",
    "X_train_non, X_test_non, y_train_non, y_test_non = train_test_split(final_non_fraud.drop(columns =['isFraud']), final_non_fraud[['isFraud']],test_size=0.1, random_state=42)\n",
    "\n",
    "X_train_non, X_val_non, y_train_non, y_val_non = train_test_split(X_train_non, y_train_non, test_size=(len(y_test_non)/len(y_train_non)), random_state=42)\n",
    "\n",
    "X_val_fraud, X_test_fraud, y_val_fraud, y_test_fraud = train_test_split(final_fraud.drop(columns =['isFraud']), final_fraud[['isFraud']],test_size=0.5, random_state=42)"
   ]
  },
  {
   "cell_type": "code",
   "execution_count": 21,
   "metadata": {},
   "outputs": [],
   "source": [
    "X_train = X_train_non\n",
    "y_train = y_train_non\n",
    "X_val = pd.concat([X_val_non, X_val_fraud], ignore_index=True)\n",
    "y_val = pd.concat([y_val_non, y_val_fraud], ignore_index=True)\n",
    "X_test = pd.concat([X_test_non, X_test_fraud], ignore_index=True)\n",
    "y_test = pd.concat([y_test_non, y_test_fraud], ignore_index=True)\n",
    "\n",
    "# Scaling all features\n",
    "X_train_train, X_train_val, y_train_train, y_train_val = train_test_split(X_train, y_train, test_size=0.2, random_state=42)\n",
    "\n",
    "scaler = MinMaxScaler()\n",
    "scaler.fit(X_train_train)\n",
    "\n",
    "\n",
    "X_train_train = pd.DataFrame(scaler.transform(X_train_train), columns = columns)\n",
    "X_train_val = pd.DataFrame(scaler.transform(X_train_val), columns = columns)\n",
    "X_train = pd.DataFrame(scaler.transform(X_train), columns = columns)\n",
    "X_val = pd.DataFrame(scaler.transform(X_val), columns = columns)\n",
    "X_test = pd.DataFrame(scaler.transform(X_test), columns = columns)\n",
    "\n"
   ]
  },
  {
   "cell_type": "code",
   "execution_count": 22,
   "metadata": {},
   "outputs": [
    {
     "data": {
      "text/plain": [
       "['min_max_scaler.gz']"
      ]
     },
     "execution_count": 22,
     "metadata": {},
     "output_type": "execute_result"
    }
   ],
   "source": [
    "joblib.dump(scaler, 'min_max_scaler.gz')"
   ]
  },
  {
   "cell_type": "markdown",
   "metadata": {},
   "source": [
    "### Base-line Models"
   ]
  },
  {
   "cell_type": "code",
   "execution_count": 23,
   "metadata": {},
   "outputs": [],
   "source": [
    "def plot_confusion_matrix(confusion_matrix: np.ndarray, model_type: str)-> None:\n",
    "\n",
    "    \"\"\"\n",
    "    This function plots a confusion matrix for model prediction\n",
    "\n",
    "    Args:\n",
    "        confusion_matrix: np array having the confusion matrix\n",
    "        model_type: model used to generate predictions\n",
    "\n",
    "    Output:\n",
    "        None\n",
    "    \"\"\"\n",
    "\n",
    "    _, ax = plt.subplots(figsize = (11, 6))\n",
    "\n",
    "    group_names = ['True Neg','False Pos','False Neg','True Pos']\n",
    "    group_counts = ['{0:0.0f}'.format(value) for value in\n",
    "                    confusion_matrix.flatten()]\n",
    "    group_percentages = ['{0:.2%}'.format(value) for value in\n",
    "                        confusion_matrix.flatten()/np.sum(confusion_matrix)]\n",
    "    labels = [f'{v1}\\n{v2}\\n{v3}' for v1, v2, v3 in\n",
    "            zip(group_names,group_counts,group_percentages)]\n",
    "    labels = np.asarray(labels).reshape(2,2)\n",
    "\n",
    "    sns.heatmap(confusion_matrix, annot=labels, fmt='', ax=ax, \n",
    "                    cmap='Blues', yticklabels= ['predicted_none_fraud', 'predicted_fraud'],\n",
    "                    xticklabels=['truely_none_fraud', 'truely_fraud'])\n",
    "    plt.title(f'Confusion matrix for {model_type}')\n",
    "    plt.plot()"
   ]
  },
  {
   "cell_type": "code",
   "execution_count": 24,
   "metadata": {},
   "outputs": [],
   "source": [
    "Xtr =  pd.concat([X_train, X_val], ignore_index=True)\n",
    "ytr = pd.concat([y_train, y_val], ignore_index=True)"
   ]
  },
  {
   "cell_type": "markdown",
   "metadata": {},
   "source": [
    "##### Logistic Regression"
   ]
  },
  {
   "cell_type": "code",
   "execution_count": 25,
   "metadata": {},
   "outputs": [
    {
     "data": {
      "text/plain": [
       "0.21223114796579426"
      ]
     },
     "execution_count": 25,
     "metadata": {},
     "output_type": "execute_result"
    },
    {
     "data": {
      "image/png": "[encoded data removed]",
      "text/plain": [
       "<Figure size 792x432 with 2 Axes>"
      ]
     },
     "metadata": {
      "needs_background": "light"
     },
     "output_type": "display_data"
    }
   ],
   "source": [
    "clf = LogisticRegression(random_state=0).fit(Xtr, ytr['isFraud'])\n",
    "pred_log = clf.predict(X_test)\n",
    "\n",
    "log_matrix = confusion_matrix(y_test, pred_log)\n",
    "\n",
    "plot_confusion_matrix(log_matrix, 'logistic regression')\n",
    "recall_score(y_test, pred_log)"
   ]
  },
  {
   "cell_type": "markdown",
   "metadata": {},
   "source": [
    "##### Isolation Forest"
   ]
  },
  {
   "cell_type": "code",
   "execution_count": 26,
   "metadata": {},
   "outputs": [
    {
     "data": {
      "text/plain": [
       "isFraud    0.001552\n",
       "dtype: float64"
      ]
     },
     "execution_count": 26,
     "metadata": {},
     "output_type": "execute_result"
    }
   ],
   "source": [
    "ytr.mean()"
   ]
  },
  {
   "cell_type": "code",
   "execution_count": null,
   "metadata": {},
   "outputs": [],
   "source": [
    "# Hyper-parameter tuning, takes 539m 30.6s to run\n",
    "\n",
    "clf = IsolationForest()\n",
    "\n",
    "param_grid = {'n_estimators': list(range(100, 500, 50)), \n",
    "              'contamination': [0.001552, 'auto']} \n",
    "\n",
    "\n",
    "# f1sc = make_scorer(f1_score, average='micro')\n",
    "\n",
    "grid_dt_estimator = model_selection.GridSearchCV(clf, \n",
    "                                                 param_grid,\n",
    "                                                 scoring='f1_micro', \n",
    "                                                 refit=True,\n",
    "                                                 cv=5, \n",
    "                                                 return_train_score=True)\n",
    "grid_dt_estimator.fit(Xtr, ytr)\n"
   ]
  },
  {
   "cell_type": "code",
   "execution_count": null,
   "metadata": {},
   "outputs": [],
   "source": [
    "grid_dt_estimator.best_estimator_"
   ]
  },
  {
   "cell_type": "markdown",
   "metadata": {},
   "source": [
    "grid_dt_estimator.best_estimator_\n",
    "\n",
    "Output:\n",
    "    IsolationForest(contamination=0.001552, n_estimators=300)"
   ]
  },
  {
   "cell_type": "code",
   "execution_count": 27,
   "metadata": {},
   "outputs": [],
   "source": [
    "iso_clf = IsolationForest(n_estimators = 300)\n",
    "iso_clf.fit(Xtr, ytr)\n",
    "iso_pred = iso_clf.predict(X_test)"
   ]
  },
  {
   "cell_type": "code",
   "execution_count": 28,
   "metadata": {},
   "outputs": [
    {
     "name": "stdout",
     "output_type": "stream",
     "text": [
      "Recall Score: 0.9209639803057788\n"
     ]
    },
    {
     "data": {
      "image/png": "[encoded data removed]",
      "text/plain": [
       "<Figure size 792x432 with 2 Axes>"
      ]
     },
     "metadata": {
      "needs_background": "light"
     },
     "output_type": "display_data"
    }
   ],
   "source": [
    "plot_confusion_matrix(confusion_matrix(y_test, iso_pred < 0), 'Isolation Forest')\n",
    "\n",
    "print(f'Recall Score: {recall_score(y_test, iso_pred<0)}')"
   ]
  },
  {
   "cell_type": "markdown",
   "metadata": {},
   "source": [
    "### Using Autoencoders for Anormally Detection"
   ]
  },
  {
   "cell_type": "markdown",
   "metadata": {},
   "source": [
    "##### Model"
   ]
  },
  {
   "cell_type": "code",
   "execution_count": 36,
   "metadata": {},
   "outputs": [],
   "source": [
    "class AutoEncoder(nn.Module):\n",
    "    \"\"\"\n",
    "    This class defines the Autoencoder Model\n",
    "    \"\"\"\n",
    "\n",
    "    def __init__(self, input_output_len, hidden_sizes):\n",
    "        \"\"\"\n",
    "        This function initializes the autoencoder parameters\n",
    "\n",
    "        Args:\n",
    "            input_output_len: The length of the input features which in turn is same for the output features\n",
    "            hidden_sizes: List of the sizes of the hidden nodes\n",
    "\n",
    "        Return:\n",
    "            None\n",
    "        \"\"\"\n",
    "\n",
    "        super().__init__()\n",
    "                                           \n",
    "        self.layer1 = nn.Linear(input_output_len, hidden_sizes[0])\n",
    "        self.layer2 =  nn.Linear(hidden_sizes[0], hidden_sizes[1])\n",
    "        self.layer3 =  nn.Linear(hidden_sizes[1], hidden_sizes[2])\n",
    "        self.layer4 = nn.Linear(hidden_sizes[2], hidden_sizes[3])\n",
    "\n",
    "        self.linear = nn.Linear(hidden_sizes[3], input_output_len)\n",
    "\n",
    "        self.droupout = nn.Dropout(0.3)\n",
    "\n",
    "        for layers in [self.layer1, self.layer2, self.layer3, self.layer4]:\n",
    "            nn.init.xavier_uniform_(layers.weight.data)\n",
    "        \n",
    "        torch.nn.init.xavier_uniform_(self.linear.weight.data)\n",
    "\n",
    "\n",
    "\n",
    "    def forward(self, data):\n",
    "        \"\"\"\n",
    "        Defines the forward pass of the Autoencoder\n",
    "\n",
    "        Args:\n",
    "            data: Dataset array\n",
    "        \n",
    "        Returns:\n",
    "            Output Features\n",
    "        \"\"\"\n",
    "        x = self.layer1(data)\n",
    "        x = self.droupout(x)\n",
    "        x = torch.tanh(x)\n",
    "        x = self.layer2(x)\n",
    "        x = self.droupout(x)\n",
    "        x = torch.tanh(x)\n",
    "        x = self.layer3(x)\n",
    "        x = self.droupout(x)\n",
    "        x = torch.tanh(x)\n",
    "        x = self.layer4(x)\n",
    "        x = self.droupout(x)\n",
    "        x = torch.tanh(x)\n",
    "\n",
    "        x = self.linear(x)\n",
    "\n",
    "        return x\n"
   ]
  },
  {
   "cell_type": "code",
   "execution_count": 30,
   "metadata": {},
   "outputs": [
    {
     "name": "stdout",
     "output_type": "stream",
     "text": [
      "cuda\n"
     ]
    }
   ],
   "source": [
    "device = torch.device(\"cuda\" if torch.cuda.is_available() else \"cpu\")\n",
    "print(device)"
   ]
  },
  {
   "cell_type": "code",
   "execution_count": 31,
   "metadata": {},
   "outputs": [
    {
     "name": "stdout",
     "output_type": "stream",
     "text": [
      "AutoEncoder(\n",
      "  (layer1): Linear(in_features=9, out_features=6, bias=True)\n",
      "  (layer2): Linear(in_features=6, out_features=4, bias=True)\n",
      "  (layer3): Linear(in_features=4, out_features=4, bias=True)\n",
      "  (layer4): Linear(in_features=4, out_features=6, bias=True)\n",
      "  (linear): Linear(in_features=6, out_features=9, bias=True)\n",
      "  (droupout): Dropout(p=0.3, inplace=False)\n",
      ")\n"
     ]
    }
   ],
   "source": [
    "model = AutoEncoder(len(X_train.columns), hidden_sizes=[6, 4, 4, 6])\n",
    "criterion = nn.MSELoss()\n",
    "optimizer=torch.optim.Adam(model.parameters(), lr=1e-2)\n",
    "scheduler = torch.optim.lr_scheduler.ReduceLROnPlateau(optimizer, patience = 3, factor = 0.5)\n",
    "model = model.to(device)\n",
    "print(model)"
   ]
  },
  {
   "cell_type": "markdown",
   "metadata": {},
   "source": [
    "##### DataLoader"
   ]
  },
  {
   "cell_type": "code",
   "execution_count": 32,
   "metadata": {},
   "outputs": [],
   "source": [
    "# Training train dataloader\n",
    "train_data = torch.FloatTensor(X_train_train.values)\n",
    "train_args = dict(shuffle = True, batch_size = 1024, num_workers=1)\n",
    "train_loader = DataLoader( train_data, **train_args)\n",
    "\n",
    "# Training validation dataloader\n",
    "train_val_data = torch.FloatTensor(X_train_val.values)\n",
    "train_val_args = dict(shuffle = False, batch_size = 1024, num_workers=1)\n",
    "train_val_loader = DataLoader( train_val_data, **train_val_args)"
   ]
  },
  {
   "cell_type": "markdown",
   "metadata": {},
   "source": [
    "##### Train and Validation functions"
   ]
  },
  {
   "cell_type": "code",
   "execution_count": 33,
   "metadata": {},
   "outputs": [],
   "source": [
    "# Train the model\n",
    "\n",
    "def train_model(train_loader, model):\n",
    "    training_loss = 0\n",
    "    \n",
    "    # Set model in 'Training mode'\n",
    "    model.train()\n",
    "    \n",
    "    # enumerate mini batches\n",
    "    for i, inputs in enumerate(train_loader):\n",
    "        inputs = inputs.to(device)\n",
    "\n",
    "        # clear the gradients\n",
    "        optimizer.zero_grad()\n",
    "        \n",
    "        \n",
    "        # compute the model output\n",
    "        out = model(inputs)\n",
    "        \n",
    "        # calculate loss\n",
    "        loss = criterion(out, inputs)\n",
    "        \n",
    "        # Backward pass\n",
    "        loss.backward()\n",
    "        \n",
    "        # Update model weights\n",
    "        optimizer.step()\n",
    "\n",
    "        training_loss += loss.item()\n",
    "        \n",
    "    training_loss /= len(train_loader)\n",
    "    return training_loss"
   ]
  },
  {
   "cell_type": "code",
   "execution_count": 34,
   "metadata": {},
   "outputs": [],
   "source": [
    "# Validate the model\n",
    "\n",
    "def validate_model(train_val_loader, model):\n",
    "    \n",
    "    val_loss = 0\n",
    "    \n",
    "    # Set model in validation mode\n",
    "    model.eval()\n",
    "    \n",
    "     # enumerate mini batches\n",
    "    for i, inputs in enumerate(train_val_loader):\n",
    "        inputs = inputs.to(device)\n",
    "\n",
    "        # clear the gradients\n",
    "        optimizer.zero_grad()\n",
    "        \n",
    "        \n",
    "        # compute the model output\n",
    "        out = model(inputs)\n",
    "        \n",
    "        # calculate loss\n",
    "        loss = criterion(out, inputs)\n",
    "\n",
    "        val_loss += loss.item()\n",
    "        \n",
    "    val_loss /= len(train_val_loader)\n",
    "    return val_loss"
   ]
  },
  {
   "cell_type": "markdown",
   "metadata": {},
   "source": [
    "##### Training the network"
   ]
  },
  {
   "cell_type": "code",
   "execution_count": 35,
   "metadata": {},
   "outputs": [
    {
     "name": "stdout",
     "output_type": "stream",
     "text": [
      "Epoch: 0, Training loss: 0.004626805255413185, Validation loss:0.0027816092218391235\n",
      "Epoch: 1, Training loss: 0.004634998798323903, Validation loss:0.0027816092218391235\n",
      "Epoch: 2, Training loss: 0.0046363537712454835, Validation loss:0.0027816092218391235\n",
      "Epoch: 3, Training loss: 0.00463914906883206, Validation loss:0.0027816092218391235\n",
      "Epoch: 4, Training loss: 0.004642339409523473, Validation loss:0.0027816092218391235\n",
      "Epoch: 5, Training loss: 0.004627802774413832, Validation loss:0.0027816092218391235\n",
      "Epoch: 6, Training loss: 0.00463833371509545, Validation loss:0.0027816092218391235\n",
      "Epoch: 7, Training loss: 0.004637707211995571, Validation loss:0.0027816092218391235\n",
      "Epoch: 8, Training loss: 0.00463261857538067, Validation loss:0.0027816092218391235\n",
      "Epoch: 9, Training loss: 0.0046388293874964305, Validation loss:0.0027816092218391235\n",
      "Epoch: 10, Training loss: 0.004633908852715512, Validation loss:0.0027816092218391235\n",
      "Epoch: 11, Training loss: 0.004642823124234186, Validation loss:0.0027816092218391235\n",
      "Epoch: 12, Training loss: 0.004636109915044453, Validation loss:0.0027816092218391235\n",
      "Epoch: 13, Training loss: 0.004645263429233056, Validation loss:0.0027816092218391235\n",
      "Epoch: 14, Training loss: 0.004635015034344774, Validation loss:0.0027816092218391235\n",
      "Epoch: 15, Training loss: 0.004636534889987097, Validation loss:0.0027816092218391235\n",
      "Epoch: 16, Training loss: 0.004640437303091509, Validation loss:0.0027816092218391235\n",
      "Epoch: 17, Training loss: 0.004646546326754852, Validation loss:0.0027816092218391235\n",
      "Epoch: 18, Training loss: 0.0046330378878388445, Validation loss:0.0027816092218391235\n",
      "Epoch: 19, Training loss: 0.004633734802220648, Validation loss:0.0027816092218391235\n"
     ]
    }
   ],
   "source": [
    "# Define number of epochs\n",
    "epochs = 20\n",
    "train_losses = [6000000]\n",
    "val_losses = [6000000]\n",
    "\n",
    "model = torch.load('model.pth') # model.pth was trained for 200 epochs until values where stagnant\n",
    "\n",
    "for epoch in range(epochs):\n",
    "    \n",
    "    # Train\n",
    "    training_loss = train_model(train_loader, model)\n",
    "\n",
    "    # Validation\n",
    "    val_loss = validate_model(train_val_loader, model)\n",
    "\n",
    "    scheduler.step(val_loss)\n",
    "\n",
    "    # Commented out since the model had been trained\n",
    "\n",
    "    # if val_loss < val_losses[-1]:\n",
    "    #     torch.save(model, 'model.pth')\n",
    "\n",
    "    \n",
    "    # Print log of accuracy and loss\n",
    "    print(\"Epoch: \"+str(epoch)+\", Training loss: \"+str(training_loss)+\", Validation loss:\"+str(val_loss))\n",
    "    \n",
    "    train_losses.append(training_loss)\n",
    "    val_losses.append(val_loss)\n"
   ]
  },
  {
   "cell_type": "markdown",
   "metadata": {},
   "source": [
    "#### Validating the model and setting threshold to classify fraudulent data"
   ]
  },
  {
   "cell_type": "code",
   "execution_count": 37,
   "metadata": {},
   "outputs": [],
   "source": [
    "# Validation dataloader\n",
    "val_data = torch.FloatTensor(X_val.values)\n",
    "val_args = dict(shuffle = False, batch_size = 1, num_workers=1)\n",
    "val_loader = DataLoader(val_data, **val_args)\n",
    "\n",
    "# Test dataloader\n",
    "test_data = torch.FloatTensor(X_test.values)\n",
    "test_args = dict(shuffle = False, batch_size = 1, num_workers=1)\n",
    "test_loader = DataLoader(test_data, **test_args)"
   ]
  },
  {
   "cell_type": "code",
   "execution_count": 38,
   "metadata": {},
   "outputs": [],
   "source": [
    "# Test the model\n",
    "\n",
    "def test_model(loader, model):\n",
    "      \n",
    "    model.eval()\n",
    "    losses = []\n",
    "    \n",
    "     # enumerate mini batches\n",
    "    for inputs in tqdm(loader):\n",
    "        inputs = inputs.to(device)\n",
    "           \n",
    "        # compute the model output\n",
    "        out = model(inputs)\n",
    "        \n",
    "        # calculate loss\n",
    "        loss = criterion(out, inputs)\n",
    "\n",
    "        losses += [loss.item()]\n",
    "        \n",
    "    return losses"
   ]
  },
  {
   "cell_type": "code",
   "execution_count": 39,
   "metadata": {},
   "outputs": [
    {
     "name": "stderr",
     "output_type": "stream",
     "text": [
      "100%|██████████| 279605/279605 [05:47<00:00, 803.88it/s]\n"
     ]
    },
    {
     "data": {
      "text/html": [
       "<div>\n",
       "<style scoped>\n",
       "    .dataframe tbody tr th:only-of-type {\n",
       "        vertical-align: middle;\n",
       "    }\n",
       "\n",
       "    .dataframe tbody tr th {\n",
       "        vertical-align: top;\n",
       "    }\n",
       "\n",
       "    .dataframe thead th {\n",
       "        text-align: right;\n",
       "    }\n",
       "</style>\n",
       "<table border=\"1\" class=\"dataframe\">\n",
       "  <thead>\n",
       "    <tr style=\"text-align: right;\">\n",
       "      <th></th>\n",
       "      <th>losses</th>\n",
       "      <th>y</th>\n",
       "    </tr>\n",
       "  </thead>\n",
       "  <tbody>\n",
       "    <tr>\n",
       "      <th>count</th>\n",
       "      <td>275747.000000</td>\n",
       "      <td>275747.0</td>\n",
       "    </tr>\n",
       "    <tr>\n",
       "      <th>mean</th>\n",
       "      <td>0.002765</td>\n",
       "      <td>0.0</td>\n",
       "    </tr>\n",
       "    <tr>\n",
       "      <th>std</th>\n",
       "      <td>0.005939</td>\n",
       "      <td>0.0</td>\n",
       "    </tr>\n",
       "    <tr>\n",
       "      <th>min</th>\n",
       "      <td>0.000002</td>\n",
       "      <td>0.0</td>\n",
       "    </tr>\n",
       "    <tr>\n",
       "      <th>25%</th>\n",
       "      <td>0.000039</td>\n",
       "      <td>0.0</td>\n",
       "    </tr>\n",
       "    <tr>\n",
       "      <th>50%</th>\n",
       "      <td>0.000179</td>\n",
       "      <td>0.0</td>\n",
       "    </tr>\n",
       "    <tr>\n",
       "      <th>75%</th>\n",
       "      <td>0.001226</td>\n",
       "      <td>0.0</td>\n",
       "    </tr>\n",
       "    <tr>\n",
       "      <th>max</th>\n",
       "      <td>0.227264</td>\n",
       "      <td>0.0</td>\n",
       "    </tr>\n",
       "  </tbody>\n",
       "</table>\n",
       "</div>"
      ],
      "text/plain": [
       "              losses         y\n",
       "count  275747.000000  275747.0\n",
       "mean        0.002765       0.0\n",
       "std         0.005939       0.0\n",
       "min         0.000002       0.0\n",
       "25%         0.000039       0.0\n",
       "50%         0.000179       0.0\n",
       "75%         0.001226       0.0\n",
       "max         0.227264       0.0"
      ]
     },
     "execution_count": 39,
     "metadata": {},
     "output_type": "execute_result"
    }
   ],
   "source": [
    "reconstruction_loss = test_model(val_loader, model)\n",
    "val_df = pd.DataFrame()\n",
    "val_df['losses'] = reconstruction_loss\n",
    "val_df['y'] = y_val.isFraud\n",
    "val_df[val_df.y == 0].describe()"
   ]
  },
  {
   "cell_type": "code",
   "execution_count": 41,
   "metadata": {},
   "outputs": [
    {
     "data": {
      "text/html": [
       "<div>\n",
       "<style scoped>\n",
       "    .dataframe tbody tr th:only-of-type {\n",
       "        vertical-align: middle;\n",
       "    }\n",
       "\n",
       "    .dataframe tbody tr th {\n",
       "        vertical-align: top;\n",
       "    }\n",
       "\n",
       "    .dataframe thead th {\n",
       "        text-align: right;\n",
       "    }\n",
       "</style>\n",
       "<table border=\"1\" class=\"dataframe\">\n",
       "  <thead>\n",
       "    <tr style=\"text-align: right;\">\n",
       "      <th></th>\n",
       "      <th>losses</th>\n",
       "      <th>y</th>\n",
       "    </tr>\n",
       "  </thead>\n",
       "  <tbody>\n",
       "    <tr>\n",
       "      <th>count</th>\n",
       "      <td>3858.000000</td>\n",
       "      <td>3858.0</td>\n",
       "    </tr>\n",
       "    <tr>\n",
       "      <th>mean</th>\n",
       "      <td>0.022627</td>\n",
       "      <td>1.0</td>\n",
       "    </tr>\n",
       "    <tr>\n",
       "      <th>std</th>\n",
       "      <td>0.022172</td>\n",
       "      <td>0.0</td>\n",
       "    </tr>\n",
       "    <tr>\n",
       "      <th>min</th>\n",
       "      <td>0.000009</td>\n",
       "      <td>1.0</td>\n",
       "    </tr>\n",
       "    <tr>\n",
       "      <th>25%</th>\n",
       "      <td>0.007193</td>\n",
       "      <td>1.0</td>\n",
       "    </tr>\n",
       "    <tr>\n",
       "      <th>50%</th>\n",
       "      <td>0.017220</td>\n",
       "      <td>1.0</td>\n",
       "    </tr>\n",
       "    <tr>\n",
       "      <th>75%</th>\n",
       "      <td>0.034550</td>\n",
       "      <td>1.0</td>\n",
       "    </tr>\n",
       "    <tr>\n",
       "      <th>max</th>\n",
       "      <td>0.447041</td>\n",
       "      <td>1.0</td>\n",
       "    </tr>\n",
       "  </tbody>\n",
       "</table>\n",
       "</div>"
      ],
      "text/plain": [
       "            losses       y\n",
       "count  3858.000000  3858.0\n",
       "mean      0.022627     1.0\n",
       "std       0.022172     0.0\n",
       "min       0.000009     1.0\n",
       "25%       0.007193     1.0\n",
       "50%       0.017220     1.0\n",
       "75%       0.034550     1.0\n",
       "max       0.447041     1.0"
      ]
     },
     "execution_count": 41,
     "metadata": {},
     "output_type": "execute_result"
    }
   ],
   "source": [
    "val_df[val_df.y == 1].describe()"
   ]
  },
  {
   "cell_type": "markdown",
   "metadata": {},
   "source": [
    "##### Calculate the recall score with a threshold of 0.001"
   ]
  },
  {
   "cell_type": "markdown",
   "metadata": {},
   "source": [
    "It is better to capture more of the fraudulent transaction, than not capture them, even if it means that some none-fraudulent data are classified as fraudulent but can be confirmed later with the customer"
   ]
  },
  {
   "cell_type": "code",
   "execution_count": 42,
   "metadata": {},
   "outputs": [
    {
     "data": {
      "text/plain": [
       "0.9626749611197511"
      ]
     },
     "execution_count": 42,
     "metadata": {},
     "output_type": "execute_result"
    }
   ],
   "source": [
    "recall_score(y_val, val_df.losses > 0.001)"
   ]
  },
  {
   "cell_type": "markdown",
   "metadata": {},
   "source": [
    "#### Testing the Autoencoder model"
   ]
  },
  {
   "cell_type": "code",
   "execution_count": 43,
   "metadata": {},
   "outputs": [
    {
     "name": "stderr",
     "output_type": "stream",
     "text": [
      "100%|██████████| 279606/279606 [05:45<00:00, 809.69it/s]\n"
     ]
    }
   ],
   "source": [
    "reconstruction_loss_test = test_model(test_loader, model)"
   ]
  },
  {
   "cell_type": "code",
   "execution_count": 44,
   "metadata": {},
   "outputs": [],
   "source": [
    "test_pred = np.array(reconstruction_loss_test) > 0.001"
   ]
  },
  {
   "cell_type": "code",
   "execution_count": 46,
   "metadata": {},
   "outputs": [
    {
     "name": "stdout",
     "output_type": "stream",
     "text": [
      "Recall Score: 0.9683855921223115\n"
     ]
    },
    {
     "data": {
      "image/png": "[encoded data removed]",
      "text/plain": [
       "<Figure size 792x432 with 2 Axes>"
      ]
     },
     "metadata": {
      "needs_background": "light"
     },
     "output_type": "display_data"
    }
   ],
   "source": [
    "print(f'Recall Score: {recall_score(y_test, test_pred)}')\n",
    "plot_confusion_matrix(confusion_matrix(y_test, test_pred), 'Autoencoder Forest')"
   ]
  },
  {
   "cell_type": "markdown",
   "metadata": {},
   "source": [
    "### Preliminary to Deploying the model to Production Using Flask"
   ]
  },
  {
   "cell_type": "code",
   "execution_count": 57,
   "metadata": {},
   "outputs": [
    {
     "name": "stdout",
     "output_type": "stream",
     "text": [
      "{\"step\": 1, \"type\": \"PAYMENT\", \"amount\": 9839.64, \"nameOrig\": \"C1231006815\", \"oldbalanceOrig\": 170136.0, \"newbalanceOrig\": 160296.36, \"nameDest\": \"M1979787155\", \"oldbalanceDest\": 0.0, \"newbalanceDest\": 0.0}\n"
     ]
    }
   ],
   "source": [
    "dictionary = {\n",
    "    \"step\":1,\n",
    "    \"type\":\"PAYMENT\",\n",
    "    \"amount\":9839.64,\n",
    "    \"nameOrig\":\"C1231006815\",\n",
    "    \"oldbalanceOrig\":170136.0,\n",
    "    \"newbalanceOrig\":160296.36,\n",
    "    \"nameDest\":\"M1979787155\",\n",
    "    \"oldbalanceDest\":0.0,\n",
    "    \"newbalanceDest\":0.0\n",
    "    } \n",
    "\n",
    "      \n",
    "# Serializing json  \n",
    "json_object = json.dumps(dictionary) \n",
    "print(json_object)"
   ]
  },
  {
   "cell_type": "code",
   "execution_count": 64,
   "metadata": {},
   "outputs": [
    {
     "data": {
      "text/plain": [
       "str"
      ]
     },
     "execution_count": 64,
     "metadata": {},
     "output_type": "execute_result"
    }
   ],
   "source": [
    "type(json_object)"
   ]
  },
  {
   "cell_type": "code",
   "execution_count": 61,
   "metadata": {},
   "outputs": [],
   "source": [
    "def test_model(loader, model):\n",
    "      \n",
    "    model.eval()\n",
    "    losses = []\n",
    "    \n",
    "     # enumerate mini batches\n",
    "    for inputs in loader:\n",
    "        inputs = inputs.to(device)\n",
    "           \n",
    "        # compute the model output\n",
    "        out = model(inputs)\n",
    "        \n",
    "        # calculate loss\n",
    "        loss = criterion(out, inputs)\n",
    "\n",
    "        losses += [loss.item()]\n",
    "        \n",
    "    return losses"
   ]
  },
  {
   "cell_type": "code",
   "execution_count": 68,
   "metadata": {},
   "outputs": [
    {
     "data": {
      "text/html": [
       "<div>\n",
       "<style scoped>\n",
       "    .dataframe tbody tr th:only-of-type {\n",
       "        vertical-align: middle;\n",
       "    }\n",
       "\n",
       "    .dataframe tbody tr th {\n",
       "        vertical-align: top;\n",
       "    }\n",
       "\n",
       "    .dataframe thead th {\n",
       "        text-align: right;\n",
       "    }\n",
       "</style>\n",
       "<table border=\"1\" class=\"dataframe\">\n",
       "  <thead>\n",
       "    <tr style=\"text-align: right;\">\n",
       "      <th></th>\n",
       "      <th>step</th>\n",
       "      <th>type</th>\n",
       "      <th>amount</th>\n",
       "      <th>nameOrig</th>\n",
       "      <th>oldbalanceOrig</th>\n",
       "      <th>newbalanceOrig</th>\n",
       "      <th>nameDest</th>\n",
       "      <th>oldbalanceDest</th>\n",
       "      <th>newbalanceDest</th>\n",
       "    </tr>\n",
       "  </thead>\n",
       "  <tbody>\n",
       "    <tr>\n",
       "      <th>0</th>\n",
       "      <td>1</td>\n",
       "      <td>PAYMENT</td>\n",
       "      <td>9839.64</td>\n",
       "      <td>C1231006815</td>\n",
       "      <td>170136.0</td>\n",
       "      <td>160296.36</td>\n",
       "      <td>M1979787155</td>\n",
       "      <td>0.0</td>\n",
       "      <td>0.0</td>\n",
       "    </tr>\n",
       "  </tbody>\n",
       "</table>\n",
       "</div>"
      ],
      "text/plain": [
       "   step     type   amount     nameOrig  oldbalanceOrig  newbalanceOrig  \\\n",
       "0     1  PAYMENT  9839.64  C1231006815        170136.0       160296.36   \n",
       "\n",
       "      nameDest  oldbalanceDest  newbalanceDest  \n",
       "0  M1979787155             0.0             0.0  "
      ]
     },
     "execution_count": 68,
     "metadata": {},
     "output_type": "execute_result"
    }
   ],
   "source": [
    "res = ast.literal_eval(json_object)\n"
   ]
  },
  {
   "cell_type": "code",
   "execution_count": 69,
   "metadata": {},
   "outputs": [],
   "source": [
    "def get_prediction(json_object: str)-> json:\n",
    "\n",
    "    \"\"\"\n",
    "    This function takes in a json file, performs predictions on it and returns a json prediction\n",
    "    Args:\n",
    "        file: json object containing input features\n",
    "\n",
    "    Return:\n",
    "        json object having predictions \n",
    "    \"\"\"\n",
    "\n",
    "    file = ast.literal_eval(json_object)\n",
    "\n",
    "    data = pd.DataFrame(file, index=[0])\n",
    "\n",
    "    prediction = {'isFraud': False}\n",
    "\n",
    "    if (data.type == \"CASH_OUT\").bool() or (data.type == \"TRANSFER\").bool():\n",
    "        target_encoding = joblib.load('target_encoding.gz')\n",
    "        min_max_scaler = joblib.load('min_max_scaler.gz')\n",
    "        saved_model = torch.load('model.pth')\n",
    "\n",
    "        X = target_encoding.transform(data)\n",
    "        X = min_max_scaler.transform(X)\n",
    "\n",
    "        test_data = torch.FloatTensor(X)\n",
    "        test_args = dict(shuffle = False, batch_size = 1, num_workers=1)\n",
    "        test_loader = DataLoader(test_data, **test_args)\n",
    "\n",
    "        reconstruction_loss_test = test_model(test_loader, saved_model)\n",
    "\n",
    "        if np.array(reconstruction_loss_test) > 0.001:\n",
    "            prediction['isFraud'] = True\n",
    "\n",
    "    \n",
    "    json_object = json.dumps(prediction)\n",
    "\n",
    "    return json_object"
   ]
  },
  {
   "cell_type": "code",
   "execution_count": 70,
   "metadata": {},
   "outputs": [
    {
     "data": {
      "text/plain": [
       "'{\"isFraud\": false}'"
      ]
     },
     "execution_count": 70,
     "metadata": {},
     "output_type": "execute_result"
    }
   ],
   "source": [
    "get_prediction(json_object)"
   ]
  }
 ],
 "metadata": {
  "interpreter": {
   "hash": "69ad578d948f773a0b65af260c7a592f79b07df59882de33aeecd603f6c4fb45"
  },
  "kernelspec": {
   "display_name": "Python 3.8.3 64-bit ('base': conda)",
   "language": "python",
   "name": "python3"
  },
  "language_info": {
   "codemirror_mode": {
    "name": "ipython",
    "version": 3
   },
   "file_extension": ".py",
   "mimetype": "text/x-python",
   "name": "python",
   "nbconvert_exporter": "python",
   "pygments_lexer": "ipython3",
   "version": "3.8.3"
  },
  "orig_nbformat": 4
 },
 "nbformat": 4,
 "nbformat_minor": 2
}
